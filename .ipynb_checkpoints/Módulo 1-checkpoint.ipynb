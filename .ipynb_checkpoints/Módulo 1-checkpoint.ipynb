{
 "cells": [
  {
   "cell_type": "markdown",
   "id": "bizarre-questionnaire",
   "metadata": {},
   "source": [
    "# Aula 5.0 Como vai funcionar o curso?\n",
    "\n",
    " **Objetivo**: Tornar fluente em Python\n",
    "**Fluência**:  conhecer e dominar ferramentas e métodos avançados em cada etapa de um projeto de dados:\n",
    "\n",
    "- Coleta\n",
    "- Manipulação\n",
    "- Transformação de dados \n",
    "- Armazenamento\n",
    "- Análise de dados\n",
    "\n",
    " **Funcionamento do curso:**\n",
    "\n",
    "- 11 módulos \n",
    "- Várias aulas por modulo\n",
    "- Ao fim de cada aula: Exercício, Projetos e Material de Apoio.\n",
    "\n"
   ]
  },
  {
   "cell_type": "markdown",
   "id": "departmental-aside",
   "metadata": {},
   "source": [
    "# Aula 6.0 Recapitulando o aprendizado até agora\n",
    "\n",
    "Aula 01: Começando com Python\n",
    "\n",
    "- O problema de negócio\n",
    "- Planejamento da solução\n",
    "\n",
    "Aula 02: Extração e Manipulação de dados\n",
    "\n",
    "- TIpos de dados\n",
    "- Tranformação com os tipos de dados\n",
    "\n",
    "Aula 03: Transformação de dados\n",
    "\n",
    "- Estrutura de dados\n",
    "- transformação de dados\n",
    "\n",
    "Aula 04: Estrutura de controle\n",
    "\n",
    "- Estruturas de dados\n",
    "- Estruturas de controle condicionais\n",
    "- Estruturas de Controle - Laços\n",
    "\n",
    "Aula 05: Funções \n",
    "\n",
    "- O que é codigo macarronico\n",
    "- Apresentação de funções\n",
    "\n",
    "Aula 06: Visualização de dados\n",
    "\n",
    "- Planejamento de Dashboards\n",
    "- Visualizações interativas\n",
    "\n",
    "Aula 07: Visualização de dados 2\n",
    "\n",
    "- Dashboard no streamlit\n",
    "- Publicar o dashboard no Heroku (torná-lo público)\n",
    "\n",
    "Aula 08: Projetos de Insights\n",
    "\n",
    "- O que eram insights\n",
    "- Organização dos projetos em Portfólio"
   ]
  },
  {
   "cell_type": "markdown",
   "id": "russian-intelligence",
   "metadata": {},
   "source": [
    "# Aula 7.0 O que vamos aprender no curso do Python do DS ao DEV? \n",
    "\n",
    "- Módulo 1: Todos na mesma página\n",
    "- Módulo 2: Introdução ao curso de Python do DS ao DEV\n",
    "- Módulo 3: Modelo de negócio e métricas\n",
    "- Módulo 4: Pensamento analítico\n",
    "- Módulo 5: Extração de dados armazenados em HTML (WebScraping)\n",
    "- Módulo 6: Extração de dados assíncrono\n",
    "- Módulo 7: Banco de dados e SQL\n",
    "- Módulo 8: Ambiente Virtual de Python (Git, Github, Virtual Env)\n",
    "- Módulo 9 : Agendamento de Jobs\n",
    "- Módulo 10: Primeira rodada de perguntas do CEO\n",
    "- Módulo 11: Navegando pelos sites com Selenium\n",
    "- Módulo 12: Segunda rodada de perrguntas para o CEO\n",
    "\n",
    "\n",
    "\n",
    "Bônus\n",
    "\n",
    "- Bônus 1: Aiflow\n",
    "- Bônus 2: Scrapy"
   ]
  },
  {
   "cell_type": "markdown",
   "id": "southeast-accessory",
   "metadata": {},
   "source": [
    "# Aula 8.0 O Problema de Negócio \n",
    "\n",
    "## A empresa Star Jeans\n",
    "\n",
    "Empreendores desejam criar uma E-commerce Americana. Os amigos não tem conhecimento de negócio. A idéia inicial é entrar no  mercado com apenas um produto e para um público específico. No caso, o produto seria calças Jeans para o público masculino. O objetivo é manter o custo de operação baixo e escalar a medida que for adquirindo clientes.\n",
    "\n",
    "Os sócios não tem experiência nesse mercado e não sabem definir coisas básicas como o preço, o tipo de calça e o material para a fabricação de cada peça. A única informação que eles tem é que os principais concorrentes da empresa Start Jeans são as americanas H&M e Macys.\n",
    "\n",
    "\n",
    "\n",
    "Assim, a empresa contratou uma equipe de Ciência de Dados para responder as seguintes perguntas:\n",
    "\n",
    "1. Qual é o melhor preço de venda para as calças?\n",
    "2. Quantos tipos de calças e suas cores para o produto inicial?\n",
    "3. Quais as matérias-prima necessárias para confeccionar as calças?\n",
    "\n"
   ]
  },
  {
   "cell_type": "markdown",
   "id": "rocky-joint",
   "metadata": {},
   "source": [
    "# Aula 9.0 Sistemas Operacionais"
   ]
  },
  {
   "cell_type": "markdown",
   "id": "liked-ceiling",
   "metadata": {},
   "source": [
    "# Aula 10 Ferramentas Recomendadas - Engenharia de Software\n",
    "\n",
    "\n",
    "## Git\n",
    "\n",
    "Sistema de controle de versões.  Versionando etapas de um projeto.\n",
    "\n",
    "## Github\n",
    "\n",
    "Empresa que usa o git para armazenar os códigos de projetos. É ideal para armazenar os projetos de portfólio.\n",
    "\n",
    "## Python\n",
    "\n",
    "Usar a versão 3.8.0\n",
    "\n",
    "## IDEs\n",
    "\n",
    "- Pycharm\n",
    "\n",
    "- VSCode\n",
    "\n",
    "- Jupyter Lab\n",
    "\n",
    "  \n",
    "\n",
    "    Notebooks\n",
    "\n",
    "- Jupyter notebooks\n",
    "- Google Colabs\n",
    "\n"
   ]
  }
 ],
 "metadata": {
  "kernelspec": {
   "display_name": "Python 3",
   "language": "python",
   "name": "python3"
  },
  "language_info": {
   "codemirror_mode": {
    "name": "ipython",
    "version": 3
   },
   "file_extension": ".py",
   "mimetype": "text/x-python",
   "name": "python",
   "nbconvert_exporter": "python",
   "pygments_lexer": "ipython3",
   "version": "3.8.0"
  },
  "varInspector": {
   "cols": {
    "lenName": 16,
    "lenType": 16,
    "lenVar": 40
   },
   "kernels_config": {
    "python": {
     "delete_cmd_postfix": "",
     "delete_cmd_prefix": "del ",
     "library": "var_list.py",
     "varRefreshCmd": "print(var_dic_list())"
    },
    "r": {
     "delete_cmd_postfix": ") ",
     "delete_cmd_prefix": "rm(",
     "library": "var_list.r",
     "varRefreshCmd": "cat(var_dic_list()) "
    }
   },
   "types_to_exclude": [
    "module",
    "function",
    "builtin_function_or_method",
    "instance",
    "_Feature"
   ],
   "window_display": false
  }
 },
 "nbformat": 4,
 "nbformat_minor": 5
}
