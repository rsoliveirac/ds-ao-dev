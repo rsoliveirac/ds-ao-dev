{
 "cells": [
  {
   "cell_type": "code",
   "execution_count": 12,
   "id": "divided-candy",
   "metadata": {},
   "outputs": [
    {
     "name": "stderr",
     "output_type": "stream",
     "text": [
      "/home/user/.pyenv/versions/3.8.0/lib/python3.8/site-packages/pandas/compat/__init__.py:97: UserWarning: Could not import the lzma module. Your installed Python is incomplete. Attempting to use lzma compression will result in a RuntimeError.\n",
      "  warnings.warn(msg)\n"
     ]
    }
   ],
   "source": [
    "import pandas as pd"
   ]
  },
  {
   "cell_type": "markdown",
   "id": "bored-chester",
   "metadata": {},
   "source": [
    "# Módulo 6 - Python Avançado"
   ]
  },
  {
   "cell_type": "markdown",
   "id": "apparent-shipping",
   "metadata": {},
   "source": [
    "## 1.0 Função Lambda - definição de função\n",
    "função simples e não replicavél para vários casos "
   ]
  },
  {
   "cell_type": "code",
   "execution_count": 6,
   "id": "acute-skill",
   "metadata": {},
   "outputs": [
    {
     "data": {
      "text/plain": [
       "70"
      ]
     },
     "execution_count": 6,
     "metadata": {},
     "output_type": "execute_result"
    }
   ],
   "source": [
    "# exemplo\n",
    "calculation = lambda a, b: a + b\n",
    "\n",
    "calculation (50,20)\n",
    "\n"
   ]
  },
  {
   "cell_type": "markdown",
   "id": "challenging-norfolk",
   "metadata": {},
   "source": [
    "# 2.0 Função Map \n",
    "aplica uma função em todas as posições de uma  estrutura de dados"
   ]
  },
  {
   "cell_type": "code",
   "execution_count": 16,
   "id": "underlying-jaguar",
   "metadata": {},
   "outputs": [
    {
     "data": {
      "text/html": [
       "<div>\n",
       "<style scoped>\n",
       "    .dataframe tbody tr th:only-of-type {\n",
       "        vertical-align: middle;\n",
       "    }\n",
       "\n",
       "    .dataframe tbody tr th {\n",
       "        vertical-align: top;\n",
       "    }\n",
       "\n",
       "    .dataframe thead th {\n",
       "        text-align: right;\n",
       "    }\n",
       "</style>\n",
       "<table border=\"1\" class=\"dataframe\">\n",
       "  <thead>\n",
       "    <tr style=\"text-align: right;\">\n",
       "      <th></th>\n",
       "      <th>nome</th>\n",
       "      <th>idade</th>\n",
       "      <th>nascimento</th>\n",
       "      <th>sobrenome</th>\n",
       "    </tr>\n",
       "  </thead>\n",
       "  <tbody>\n",
       "    <tr>\n",
       "      <th>0</th>\n",
       "      <td>Rayane</td>\n",
       "      <td>26</td>\n",
       "      <td>1994</td>\n",
       "      <td>Rayane Oliveira</td>\n",
       "    </tr>\n",
       "    <tr>\n",
       "      <th>1</th>\n",
       "      <td>Veronica</td>\n",
       "      <td>55</td>\n",
       "      <td>9946</td>\n",
       "      <td>Veronica Oliveira</td>\n",
       "    </tr>\n",
       "    <tr>\n",
       "      <th>2</th>\n",
       "      <td>Paulo</td>\n",
       "      <td>54</td>\n",
       "      <td>1947</td>\n",
       "      <td>Paulo Oliveira</td>\n",
       "    </tr>\n",
       "  </tbody>\n",
       "</table>\n",
       "</div>"
      ],
      "text/plain": [
       "       nome  idade  nascimento          sobrenome\n",
       "0    Rayane     26        1994    Rayane Oliveira\n",
       "1  Veronica     55        9946  Veronica Oliveira\n",
       "2     Paulo     54        1947     Paulo Oliveira"
      ]
     },
     "execution_count": 16,
     "metadata": {},
     "output_type": "execute_result"
    }
   ],
   "source": [
    "#Exemplo 1\n",
    "nomes = ['PATO', 'Pato', 'Ganso', 'Pato', 'Ganso', 'Pato', 'GANSO']\n",
    "\n",
    "snakecase = lambda x : x.lower()\n",
    "\n",
    "list(map(snakecase, nomes))\n",
    "\n",
    "\n",
    "#Exemplo 2\n",
    "\n",
    "data = {'nome': ['Rayane', 'Veronica', 'Paulo'],\n",
    "        'idade': [26,55,54],\n",
    "         'nascimento': [1994,9946,1947]}\n",
    "\n",
    "df = pd.DataFrame(data)\n",
    "\n",
    "age = lambda x: x + ' Oliveira'\n",
    "df['sobrenome'] = list(map(age, df['nome']))\n",
    "\n",
    "df"
   ]
  },
  {
   "cell_type": "markdown",
   "id": "outer-alarm",
   "metadata": {},
   "source": [
    "# 3.0 Apply \n",
    "Mesma função do Map, mas da biblioteca pandas"
   ]
  },
  {
   "cell_type": "code",
   "execution_count": 18,
   "id": "chronic-flight",
   "metadata": {},
   "outputs": [
    {
     "data": {
      "text/html": [
       "<div>\n",
       "<style scoped>\n",
       "    .dataframe tbody tr th:only-of-type {\n",
       "        vertical-align: middle;\n",
       "    }\n",
       "\n",
       "    .dataframe tbody tr th {\n",
       "        vertical-align: top;\n",
       "    }\n",
       "\n",
       "    .dataframe thead th {\n",
       "        text-align: right;\n",
       "    }\n",
       "</style>\n",
       "<table border=\"1\" class=\"dataframe\">\n",
       "  <thead>\n",
       "    <tr style=\"text-align: right;\">\n",
       "      <th></th>\n",
       "      <th>nome</th>\n",
       "      <th>idade</th>\n",
       "      <th>nascimento</th>\n",
       "      <th>sobrenome</th>\n",
       "      <th>altura</th>\n",
       "    </tr>\n",
       "  </thead>\n",
       "  <tbody>\n",
       "    <tr>\n",
       "      <th>0</th>\n",
       "      <td>Rayane</td>\n",
       "      <td>26</td>\n",
       "      <td>1994</td>\n",
       "      <td>Rayane Oliveira</td>\n",
       "      <td>126</td>\n",
       "    </tr>\n",
       "    <tr>\n",
       "      <th>1</th>\n",
       "      <td>Veronica</td>\n",
       "      <td>55</td>\n",
       "      <td>9946</td>\n",
       "      <td>Veronica Oliveira</td>\n",
       "      <td>155</td>\n",
       "    </tr>\n",
       "    <tr>\n",
       "      <th>2</th>\n",
       "      <td>Paulo</td>\n",
       "      <td>54</td>\n",
       "      <td>1947</td>\n",
       "      <td>Paulo Oliveira</td>\n",
       "      <td>154</td>\n",
       "    </tr>\n",
       "  </tbody>\n",
       "</table>\n",
       "</div>"
      ],
      "text/plain": [
       "       nome  idade  nascimento          sobrenome  altura\n",
       "0    Rayane     26        1994    Rayane Oliveira     126\n",
       "1  Veronica     55        9946  Veronica Oliveira     155\n",
       "2     Paulo     54        1947     Paulo Oliveira     154"
      ]
     },
     "execution_count": 18,
     "metadata": {},
     "output_type": "execute_result"
    }
   ],
   "source": [
    "df['altura'] = df['idade'].apply(lambda x: x + 100)\n",
    "df"
   ]
  },
  {
   "cell_type": "code",
   "execution_count": null,
   "id": "julian-roller",
   "metadata": {},
   "outputs": [],
   "source": []
  }
 ],
 "metadata": {
  "kernelspec": {
   "display_name": "Python 3",
   "language": "python",
   "name": "python3"
  },
  "language_info": {
   "codemirror_mode": {
    "name": "ipython",
    "version": 3
   },
   "file_extension": ".py",
   "mimetype": "text/x-python",
   "name": "python",
   "nbconvert_exporter": "python",
   "pygments_lexer": "ipython3",
   "version": "3.8.0"
  },
  "varInspector": {
   "cols": {
    "lenName": 16,
    "lenType": 16,
    "lenVar": 40
   },
   "kernels_config": {
    "python": {
     "delete_cmd_postfix": "",
     "delete_cmd_prefix": "del ",
     "library": "var_list.py",
     "varRefreshCmd": "print(var_dic_list())"
    },
    "r": {
     "delete_cmd_postfix": ") ",
     "delete_cmd_prefix": "rm(",
     "library": "var_list.r",
     "varRefreshCmd": "cat(var_dic_list()) "
    }
   },
   "types_to_exclude": [
    "module",
    "function",
    "builtin_function_or_method",
    "instance",
    "_Feature"
   ],
   "window_display": false
  }
 },
 "nbformat": 4,
 "nbformat_minor": 5
}
