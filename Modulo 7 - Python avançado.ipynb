{
 "cells": [
  {
   "cell_type": "markdown",
   "id": "hearing-corporation",
   "metadata": {},
   "source": [
    "# <font color = 'purple' > Módulo 6 - Apply, Map, Lambda </font>"
   ]
  },
  {
   "cell_type": "code",
   "execution_count": 13,
   "id": "exact-throat",
   "metadata": {
    "ExecuteTime": {
     "end_time": "2021-05-07T19:49:19.002036Z",
     "start_time": "2021-05-07T19:49:16.606432Z"
    }
   },
   "outputs": [
    {
     "name": "stderr",
     "output_type": "stream",
     "text": [
      "/home/user/.pyenv/versions/3.8.0/lib/python3.8/site-packages/pandas/compat/__init__.py:97: UserWarning: Could not import the lzma module. Your installed Python is incomplete. Attempting to use lzma compression will result in a RuntimeError.\n",
      "  warnings.warn(msg)\n"
     ]
    }
   ],
   "source": [
    "import pandas as pd"
   ]
  },
  {
   "cell_type": "markdown",
   "id": "three-israeli",
   "metadata": {},
   "source": [
    "## 1.0 Lambda\n",
    "\n",
    "<font color = blue > outra maneira de escrever função. Não usar para códigos complexos"
   ]
  },
  {
   "cell_type": "code",
   "execution_count": 1,
   "id": "requested-fireplace",
   "metadata": {
    "ExecuteTime": {
     "end_time": "2021-05-07T19:31:37.264570Z",
     "start_time": "2021-05-07T19:31:37.255542Z"
    }
   },
   "outputs": [],
   "source": [
    "f_calculation = lambda a,b: a+b"
   ]
  },
  {
   "cell_type": "code",
   "execution_count": 3,
   "id": "smaller-league",
   "metadata": {
    "ExecuteTime": {
     "end_time": "2021-05-07T19:32:12.082223Z",
     "start_time": "2021-05-07T19:32:12.071517Z"
    }
   },
   "outputs": [
    {
     "data": {
      "text/plain": [
       "7"
      ]
     },
     "execution_count": 3,
     "metadata": {},
     "output_type": "execute_result"
    }
   ],
   "source": [
    "f_calculation(5, 2)"
   ]
  },
  {
   "cell_type": "markdown",
   "id": "preliminary-interface",
   "metadata": {
    "ExecuteTime": {
     "end_time": "2021-05-07T19:34:53.886109Z",
     "start_time": "2021-05-07T19:34:53.873253Z"
    }
   },
   "source": [
    "## 2.0 Map\n",
    "\n",
    "<font color = blue > aplica uma função em todas as estrutura do dado (linha, coluna ou lista)\n",
    "\n"
   ]
  },
  {
   "cell_type": "code",
   "execution_count": 5,
   "id": "amazing-parallel",
   "metadata": {
    "ExecuteTime": {
     "end_time": "2021-05-07T19:38:35.169516Z",
     "start_time": "2021-05-07T19:38:35.159480Z"
    }
   },
   "outputs": [],
   "source": [
    "col_old = ['SORTE', 'AzAr', 'PEpiNo', 'PeOlO']"
   ]
  },
  {
   "cell_type": "code",
   "execution_count": 7,
   "id": "intensive-canal",
   "metadata": {
    "ExecuteTime": {
     "end_time": "2021-05-07T19:39:03.401339Z",
     "start_time": "2021-05-07T19:39:03.383567Z"
    }
   },
   "outputs": [
    {
     "data": {
      "text/plain": [
       "['sorte', 'azar', 'pepino', 'peolo']"
      ]
     },
     "execution_count": 7,
     "metadata": {},
     "output_type": "execute_result"
    }
   ],
   "source": [
    "snakecase = lambda x : x.lower() #lower para transformar em lowercase\n",
    "\n",
    "list(map(snakecase, col_old ))"
   ]
  },
  {
   "cell_type": "code",
   "execution_count": 9,
   "id": "norwegian-helena",
   "metadata": {
    "ExecuteTime": {
     "end_time": "2021-05-07T19:40:31.570551Z",
     "start_time": "2021-05-07T19:40:31.553660Z"
    }
   },
   "outputs": [
    {
     "data": {
      "text/plain": [
       "[2, 3, 4]"
      ]
     },
     "execution_count": 9,
     "metadata": {},
     "output_type": "execute_result"
    }
   ],
   "source": [
    "# Exemplo 2:\n",
    "\n",
    "lista = [1,2,3]\n",
    "\n",
    "soma = lambda x: x + 1\n",
    "\n",
    "list(map(soma, lista))"
   ]
  },
  {
   "cell_type": "code",
   "execution_count": 22,
   "id": "electric-marriage",
   "metadata": {
    "ExecuteTime": {
     "end_time": "2021-05-07T19:51:39.338688Z",
     "start_time": "2021-05-07T19:51:39.298226Z"
    }
   },
   "outputs": [
    {
     "data": {
      "text/html": [
       "<div>\n",
       "<style scoped>\n",
       "    .dataframe tbody tr th:only-of-type {\n",
       "        vertical-align: middle;\n",
       "    }\n",
       "\n",
       "    .dataframe tbody tr th {\n",
       "        vertical-align: top;\n",
       "    }\n",
       "\n",
       "    .dataframe thead th {\n",
       "        text-align: right;\n",
       "    }\n",
       "</style>\n",
       "<table border=\"1\" class=\"dataframe\">\n",
       "  <thead>\n",
       "    <tr style=\"text-align: right;\">\n",
       "      <th></th>\n",
       "      <th>nome</th>\n",
       "      <th>idade</th>\n",
       "      <th>new_idade</th>\n",
       "    </tr>\n",
       "  </thead>\n",
       "  <tbody>\n",
       "    <tr>\n",
       "      <th>0</th>\n",
       "      <td>Rayane</td>\n",
       "      <td>26</td>\n",
       "      <td>28</td>\n",
       "    </tr>\n",
       "    <tr>\n",
       "      <th>1</th>\n",
       "      <td>Carol</td>\n",
       "      <td>26</td>\n",
       "      <td>28</td>\n",
       "    </tr>\n",
       "    <tr>\n",
       "      <th>2</th>\n",
       "      <td>Paulo</td>\n",
       "      <td>26</td>\n",
       "      <td>28</td>\n",
       "    </tr>\n",
       "    <tr>\n",
       "      <th>3</th>\n",
       "      <td>Myllena</td>\n",
       "      <td>25</td>\n",
       "      <td>27</td>\n",
       "    </tr>\n",
       "    <tr>\n",
       "      <th>4</th>\n",
       "      <td>Rovena</td>\n",
       "      <td>27</td>\n",
       "      <td>29</td>\n",
       "    </tr>\n",
       "    <tr>\n",
       "      <th>5</th>\n",
       "      <td>Caru</td>\n",
       "      <td>26</td>\n",
       "      <td>28</td>\n",
       "    </tr>\n",
       "  </tbody>\n",
       "</table>\n",
       "</div>"
      ],
      "text/plain": [
       "      nome  idade  new_idade\n",
       "0   Rayane     26         28\n",
       "1    Carol     26         28\n",
       "2    Paulo     26         28\n",
       "3  Myllena     25         27\n",
       "4   Rovena     27         29\n",
       "5     Caru     26         28"
      ]
     },
     "execution_count": 22,
     "metadata": {},
     "output_type": "execute_result"
    }
   ],
   "source": [
    "#Exemplo 3:\n",
    "df = {'nome': ['Rayane', 'Carol', 'Paulo', 'Myllena', 'Rovena', 'Caru'],\n",
    "       'idade': [26,26,26,25,27,26]}\n",
    "\n",
    "df = pd.DataFrame(df)\n",
    "\n",
    "idade_nova = lambda x : x + 2\n",
    "\n",
    "df['new_idade'] = list(map(idade_nova, df['idade']))\n",
    "\n",
    "df"
   ]
  },
  {
   "cell_type": "markdown",
   "id": "latest-cocktail",
   "metadata": {},
   "source": [
    "## 3.0 Função Apply \n",
    "\n",
    "<font color = 'blue' > map e apply possuem a mesma função, porém o apply é do pandas"
   ]
  },
  {
   "cell_type": "code",
   "execution_count": 25,
   "id": "continued-poster",
   "metadata": {
    "ExecuteTime": {
     "end_time": "2021-05-07T19:54:10.153098Z",
     "start_time": "2021-05-07T19:54:10.123690Z"
    }
   },
   "outputs": [
    {
     "data": {
      "text/html": [
       "<div>\n",
       "<style scoped>\n",
       "    .dataframe tbody tr th:only-of-type {\n",
       "        vertical-align: middle;\n",
       "    }\n",
       "\n",
       "    .dataframe tbody tr th {\n",
       "        vertical-align: top;\n",
       "    }\n",
       "\n",
       "    .dataframe thead th {\n",
       "        text-align: right;\n",
       "    }\n",
       "</style>\n",
       "<table border=\"1\" class=\"dataframe\">\n",
       "  <thead>\n",
       "    <tr style=\"text-align: right;\">\n",
       "      <th></th>\n",
       "      <th>nome</th>\n",
       "      <th>idade</th>\n",
       "      <th>new_idade</th>\n",
       "      <th>new_idade2</th>\n",
       "    </tr>\n",
       "  </thead>\n",
       "  <tbody>\n",
       "    <tr>\n",
       "      <th>0</th>\n",
       "      <td>Rayane</td>\n",
       "      <td>26</td>\n",
       "      <td>28</td>\n",
       "      <td>32</td>\n",
       "    </tr>\n",
       "    <tr>\n",
       "      <th>1</th>\n",
       "      <td>Carol</td>\n",
       "      <td>26</td>\n",
       "      <td>28</td>\n",
       "      <td>32</td>\n",
       "    </tr>\n",
       "    <tr>\n",
       "      <th>2</th>\n",
       "      <td>Paulo</td>\n",
       "      <td>26</td>\n",
       "      <td>28</td>\n",
       "      <td>32</td>\n",
       "    </tr>\n",
       "    <tr>\n",
       "      <th>3</th>\n",
       "      <td>Myllena</td>\n",
       "      <td>25</td>\n",
       "      <td>27</td>\n",
       "      <td>31</td>\n",
       "    </tr>\n",
       "    <tr>\n",
       "      <th>4</th>\n",
       "      <td>Rovena</td>\n",
       "      <td>27</td>\n",
       "      <td>29</td>\n",
       "      <td>33</td>\n",
       "    </tr>\n",
       "    <tr>\n",
       "      <th>5</th>\n",
       "      <td>Caru</td>\n",
       "      <td>26</td>\n",
       "      <td>28</td>\n",
       "      <td>32</td>\n",
       "    </tr>\n",
       "  </tbody>\n",
       "</table>\n",
       "</div>"
      ],
      "text/plain": [
       "      nome  idade  new_idade  new_idade2\n",
       "0   Rayane     26         28          32\n",
       "1    Carol     26         28          32\n",
       "2    Paulo     26         28          32\n",
       "3  Myllena     25         27          31\n",
       "4   Rovena     27         29          33\n",
       "5     Caru     26         28          32"
      ]
     },
     "execution_count": 25,
     "metadata": {},
     "output_type": "execute_result"
    }
   ],
   "source": [
    "idade_nova2 = lambda x : x + 6\n",
    "df['new_idade2'] = df['idade'].apply(idade_nova2) \n",
    "\n",
    "df"
   ]
  }
 ],
 "metadata": {
  "hide_input": false,
  "kernelspec": {
   "display_name": "Python 3",
   "language": "python",
   "name": "python3"
  },
  "language_info": {
   "codemirror_mode": {
    "name": "ipython",
    "version": 3
   },
   "file_extension": ".py",
   "mimetype": "text/x-python",
   "name": "python",
   "nbconvert_exporter": "python",
   "pygments_lexer": "ipython3",
   "version": "3.8.0"
  },
  "varInspector": {
   "cols": {
    "lenName": 16,
    "lenType": 16,
    "lenVar": 40
   },
   "kernels_config": {
    "python": {
     "delete_cmd_postfix": "",
     "delete_cmd_prefix": "del ",
     "library": "var_list.py",
     "varRefreshCmd": "print(var_dic_list())"
    },
    "r": {
     "delete_cmd_postfix": ") ",
     "delete_cmd_prefix": "rm(",
     "library": "var_list.r",
     "varRefreshCmd": "cat(var_dic_list()) "
    }
   },
   "types_to_exclude": [
    "module",
    "function",
    "builtin_function_or_method",
    "instance",
    "_Feature"
   ],
   "window_display": false
  }
 },
 "nbformat": 4,
 "nbformat_minor": 5
}
