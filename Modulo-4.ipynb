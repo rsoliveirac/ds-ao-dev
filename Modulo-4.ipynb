{
 "cells": [
  {
   "cell_type": "markdown",
   "id": "subsequent-springer",
   "metadata": {},
   "source": [
    "# Módulo 5 - Extração de dados em HTML"
   ]
  },
  {
   "cell_type": "markdown",
   "id": "separate-charm",
   "metadata": {},
   "source": [
    "## Estrutura da página HTML "
   ]
  },
  {
   "cell_type": "markdown",
   "id": "united-ratio",
   "metadata": {},
   "source": [
    "Linguagem baseada em marcação onde se marca os elementos para mostrar quais informações a página exibe. Dentro de HTML as marcações são as TAGS.\n",
    "\n",
    "   exemplo: https://books.toscrape.com/"
   ]
  },
  {
   "cell_type": "markdown",
   "id": "conservative-discretion",
   "metadata": {},
   "source": [
    "# O funcionamento de uma API e requisição de dados"
   ]
  },
  {
   "cell_type": "markdown",
   "id": "satellite-insertion",
   "metadata": {},
   "source": [
    "## O que é uma API\n",
    "aplication Programming Interface\n",
    "\n",
    "1. API é um software intermediário que permite com que duas aplicações troquem mensagens entre si\n",
    "2. API é uma forma de comunicação entre dois sistemas\n",
    "3. API é um serviço sem expor todo o desenvolvimento interno"
   ]
  },
  {
   "cell_type": "markdown",
   "id": "virtual-center",
   "metadata": {},
   "source": [
    "# Beutiful Soup - Teoria"
   ]
  },
  {
   "cell_type": "markdown",
   "id": "healthy-accident",
   "metadata": {},
   "source": [
    "biblioteca especializada para extrair dados em html. "
   ]
  },
  {
   "cell_type": "markdown",
   "id": "light-surname",
   "metadata": {},
   "source": [
    "# Prática biblioteca Beautiful Soup\n"
   ]
  },
  {
   "cell_type": "code",
   "execution_count": 1,
   "id": "coral-leader",
   "metadata": {},
   "outputs": [
    {
     "name": "stderr",
     "output_type": "stream",
     "text": [
      "/home/user/.pyenv/versions/3.8.0/lib/python3.8/site-packages/pandas/compat/__init__.py:97: UserWarning: Could not import the lzma module. Your installed Python is incomplete. Attempting to use lzma compression will result in a RuntimeError.\n",
      "  warnings.warn(msg)\n"
     ]
    }
   ],
   "source": [
    "from bs4 import BeautifulSoup\n",
    "import requests\n",
    "import pandas as pd\n",
    "from datetime import datetime\n",
    "import numpy as np"
   ]
  },
  {
   "cell_type": "code",
   "execution_count": 2,
   "id": "alleged-bunch",
   "metadata": {},
   "outputs": [],
   "source": [
    "url = 'https://www2.hm.com/en_us/men/products/jeans.html'\n",
    "headers = {'User-Agent': 'Mozilla/5.0 (Macintosh; Intel Mac OS X 10_11_5) AppleWebKit/537.36 (KHTML, like Gecko) Chrome/50.0.2661.102 Safari/537.36'} \n",
    "page = requests.get(url, headers = headers) \n",
    "soup = BeautifulSoup(page.text, 'html.parser')"
   ]
  },
  {
   "cell_type": "code",
   "execution_count": 3,
   "id": "spiritual-montgomery",
   "metadata": {},
   "outputs": [],
   "source": [
    "products = soup.find( 'ul', class_ = 'products-listing small')"
   ]
  },
  {
   "cell_type": "code",
   "execution_count": 4,
   "id": "portable-cooling",
   "metadata": {},
   "outputs": [],
   "source": [
    "products_list = products.find_all('article', class_ = 'hm-product-item')\n",
    "products_list[1].get('data-articlecode')\n",
    "\n",
    "#product_id\n",
    "product_id = [p.get( 'data-articlecode' ) for p in products_list]\n",
    "\n",
    "\n",
    "#product_category\n",
    "\n",
    "product_category =  [p.get ( 'data-category') for p in products_list]"
   ]
  },
  {
   "cell_type": "code",
   "execution_count": 5,
   "id": "powered-dinner",
   "metadata": {},
   "outputs": [],
   "source": [
    "#product_name\n",
    "products_list = products.find_all ('a', class_ = 'link')\n",
    "product_name = [p.get_text() for p in products_list]"
   ]
  },
  {
   "cell_type": "code",
   "execution_count": 6,
   "id": "thirty-physics",
   "metadata": {},
   "outputs": [],
   "source": [
    "products_list = products.find_all('span', class_ = 'price regular')\n",
    "products_list[0].get_text()\n",
    "product_price = [p.get_text() for p in products_list]"
   ]
  },
  {
   "cell_type": "code",
   "execution_count": 7,
   "id": "talented-auckland",
   "metadata": {},
   "outputs": [],
   "source": [
    "data = pd.DataFrame([product_id, product_category, product_name, product_price]).T\n",
    "\n",
    "data.columns = ['product_id', 'product_category', 'product_name', 'product_price']"
   ]
  },
  {
   "cell_type": "code",
   "execution_count": 8,
   "id": "latest-transcript",
   "metadata": {},
   "outputs": [],
   "source": [
    "#scrapy datetime\n",
    "\n",
    "data['scrapy_datetime'] = datetime.now().strftime('%Y-%m-%d %H:%M:%S')"
   ]
  },
  {
   "cell_type": "markdown",
   "id": "refined-trail",
   "metadata": {},
   "source": [
    "# Requerimento de todas as páginas"
   ]
  },
  {
   "cell_type": "code",
   "execution_count": 9,
   "id": "similar-contamination",
   "metadata": {},
   "outputs": [
    {
     "ename": "SyntaxError",
     "evalue": "unexpected EOF while parsing (<ipython-input-9-1fddab4e4923>, line 3)",
     "output_type": "error",
     "traceback": [
      "\u001b[0;36m  File \u001b[0;32m\"<ipython-input-9-1fddab4e4923>\"\u001b[0;36m, line \u001b[0;32m3\u001b[0m\n\u001b[0;31m    page = requests.get(url, headers = headers\u001b[0m\n\u001b[0m                                              ^\u001b[0m\n\u001b[0;31mSyntaxError\u001b[0m\u001b[0;31m:\u001b[0m unexpected EOF while parsing\n"
     ]
    }
   ],
   "source": [
    "url = 'https://www2.hm.com/en_us/men/products/jeans.html'\n",
    "headers = {'User-Agent': 'Mozilla/5.0 (Macintosh; Intel Mac OS X 10_11_5) AppleWebKit/537.36 (KHTML, like Gecko) Chrome/50.0.2661.102 Safari/537.36'} \n",
    "page = requests.get(url, headers = headers"
   ]
  },
  {
   "cell_type": "code",
   "execution_count": 10,
   "id": "organic-procurement",
   "metadata": {},
   "outputs": [
    {
     "data": {
      "text/plain": [
       "'85'"
      ]
     },
     "execution_count": 10,
     "metadata": {},
     "output_type": "execute_result"
    }
   ],
   "source": [
    "total_item = soup.find_all('h2', class_= 'load-more-heading')[0].get('data-total')\n",
    "\n",
    "total_item"
   ]
  },
  {
   "cell_type": "code",
   "execution_count": 11,
   "id": "ecological-failing",
   "metadata": {},
   "outputs": [
    {
     "data": {
      "text/plain": [
       "2.0"
      ]
     },
     "execution_count": 11,
     "metadata": {},
     "output_type": "execute_result"
    }
   ],
   "source": [
    "page_number = np.round(int(total_item) / 36)\n",
    "page_number"
   ]
  },
  {
   "cell_type": "code",
   "execution_count": 12,
   "id": "photographic-junction",
   "metadata": {},
   "outputs": [
    {
     "data": {
      "text/plain": [
       "'https://www2.hm.com/en_us/men/products/jeans.html?page-size=72'"
      ]
     },
     "execution_count": 12,
     "metadata": {},
     "output_type": "execute_result"
    }
   ],
   "source": [
    "url2 = url + '?page-size=' + str(int(page_number*36))\n",
    "\n",
    "url2"
   ]
  },
  {
   "cell_type": "markdown",
   "id": "resistant-belize",
   "metadata": {},
   "source": [
    "# Informações dentro de cada produto"
   ]
  },
  {
   "cell_type": "code",
   "execution_count": 13,
   "id": "precious-recommendation",
   "metadata": {},
   "outputs": [],
   "source": [
    "url = 'https://www2.hm.com/en_us/productpage.0636207006.html'\n",
    "headers = {'User-Agent': 'Mozilla/5.0 (Macintosh; Intel Mac OS X 10_11_5) AppleWebKit/537.36 (KHTML, like Gecko) Chrome/50.0.2661.102 Safari/537.36'} \n",
    "page = requests.get(url, headers = headers)"
   ]
  },
  {
   "cell_type": "code",
   "execution_count": 14,
   "id": "fabulous-airline",
   "metadata": {},
   "outputs": [],
   "source": [
    "soup = BeautifulSoup(page.text, 'html.parser')"
   ]
  },
  {
   "cell_type": "code",
   "execution_count": 15,
   "id": "interstate-reality",
   "metadata": {},
   "outputs": [],
   "source": [
    "#Color name\n",
    "product_list = soup.find_all('a', class_= 'filter-option miniature')\n",
    "\n",
    "\n",
    "color_name = [p.get('data-color') for p in product_list]\n",
    "#id product\n",
    "id_product =  [p.get('data-articlecode') for p in product_list]\n",
    "\n",
    "\n",
    "df_color = pd.DataFrame([id_product, color_name]).T\n",
    "df_color.columns =  ['product_id', 'color_name']"
   ]
  },
  {
   "cell_type": "code",
   "execution_count": 16,
   "id": "accurate-leader",
   "metadata": {},
   "outputs": [
    {
     "data": {
      "text/plain": [
       "['Fit', 'Slim fit']"
      ]
     },
     "execution_count": 16,
     "metadata": {},
     "output_type": "execute_result"
    }
   ],
   "source": [
    "#composition\n",
    "list( filter( None, soup.find_all('div', \n",
    "                                    class_ = 'pdp-description-list-item')[0].get_text().split('\\n')))"
   ]
  },
  {
   "cell_type": "code",
   "execution_count": 17,
   "id": "digital-kentucky",
   "metadata": {},
   "outputs": [],
   "source": [
    "composition_product_list = soup.find_all('div',class_ = 'pdp-description-list-item')\n"
   ]
  },
  {
   "cell_type": "code",
   "execution_count": 18,
   "id": "objective-imperial",
   "metadata": {},
   "outputs": [],
   "source": [
    "product_composition = [list(filter(None, p.get_text().split('\\n'))) for p in composition_product_list]\n",
    "#rename dataframe\n",
    "\n",
    "df_aux = pd.DataFrame(product_composition).T\n"
   ]
  },
  {
   "cell_type": "code",
   "execution_count": 20,
   "id": "referenced-edwards",
   "metadata": {},
   "outputs": [
    {
     "data": {
      "text/html": [
       "<div>\n",
       "<style scoped>\n",
       "    .dataframe tbody tr th:only-of-type {\n",
       "        vertical-align: middle;\n",
       "    }\n",
       "\n",
       "    .dataframe tbody tr th {\n",
       "        vertical-align: top;\n",
       "    }\n",
       "\n",
       "    .dataframe thead th {\n",
       "        text-align: right;\n",
       "    }\n",
       "</style>\n",
       "<table border=\"1\" class=\"dataframe\">\n",
       "  <thead>\n",
       "    <tr style=\"text-align: right;\">\n",
       "      <th></th>\n",
       "      <th>product_id</th>\n",
       "      <th>color_name</th>\n",
       "    </tr>\n",
       "  </thead>\n",
       "  <tbody>\n",
       "    <tr>\n",
       "      <th>0</th>\n",
       "      <td>0636207001</td>\n",
       "      <td>Dark denim blue</td>\n",
       "    </tr>\n",
       "    <tr>\n",
       "      <th>1</th>\n",
       "      <td>0636207002</td>\n",
       "      <td>Dark gray denim</td>\n",
       "    </tr>\n",
       "    <tr>\n",
       "      <th>2</th>\n",
       "      <td>0636207004</td>\n",
       "      <td>Denim blue</td>\n",
       "    </tr>\n",
       "    <tr>\n",
       "      <th>3</th>\n",
       "      <td>0636207005</td>\n",
       "      <td>Gray</td>\n",
       "    </tr>\n",
       "    <tr>\n",
       "      <th>4</th>\n",
       "      <td>0636207010</td>\n",
       "      <td>Light denim blue</td>\n",
       "    </tr>\n",
       "    <tr>\n",
       "      <th>5</th>\n",
       "      <td>0636207011</td>\n",
       "      <td>Midnight blue</td>\n",
       "    </tr>\n",
       "    <tr>\n",
       "      <th>6</th>\n",
       "      <td>0636207014</td>\n",
       "      <td>Dark gray</td>\n",
       "    </tr>\n",
       "    <tr>\n",
       "      <th>7</th>\n",
       "      <td>0636207015</td>\n",
       "      <td>Denim blue</td>\n",
       "    </tr>\n",
       "    <tr>\n",
       "      <th>8</th>\n",
       "      <td>0636207017</td>\n",
       "      <td>White</td>\n",
       "    </tr>\n",
       "    <tr>\n",
       "      <th>9</th>\n",
       "      <td>0636207019</td>\n",
       "      <td>Pale denim blue</td>\n",
       "    </tr>\n",
       "  </tbody>\n",
       "</table>\n",
       "</div>"
      ],
      "text/plain": [
       "   product_id        color_name\n",
       "0  0636207001   Dark denim blue\n",
       "1  0636207002   Dark gray denim\n",
       "2  0636207004        Denim blue\n",
       "3  0636207005              Gray\n",
       "4  0636207010  Light denim blue\n",
       "5  0636207011     Midnight blue\n",
       "6  0636207014         Dark gray\n",
       "7  0636207015        Denim blue\n",
       "8  0636207017             White\n",
       "9  0636207019   Pale denim blue"
      ]
     },
     "execution_count": 20,
     "metadata": {},
     "output_type": "execute_result"
    }
   ],
   "source": []
  },
  {
   "cell_type": "code",
   "execution_count": null,
   "id": "polish-confidentiality",
   "metadata": {},
   "outputs": [],
   "source": [
    "#product_color  "
   ]
  },
  {
   "cell_type": "code",
   "execution_count": null,
   "id": "desperate-contractor",
   "metadata": {},
   "outputs": [],
   "source": [
    "#composition"
   ]
  }
 ],
 "metadata": {
  "kernelspec": {
   "display_name": "Python 3",
   "language": "python",
   "name": "python3"
  },
  "language_info": {
   "codemirror_mode": {
    "name": "ipython",
    "version": 3
   },
   "file_extension": ".py",
   "mimetype": "text/x-python",
   "name": "python",
   "nbconvert_exporter": "python",
   "pygments_lexer": "ipython3",
   "version": "3.8.0"
  },
  "varInspector": {
   "cols": {
    "lenName": 16,
    "lenType": 16,
    "lenVar": 40
   },
   "kernels_config": {
    "python": {
     "delete_cmd_postfix": "",
     "delete_cmd_prefix": "del ",
     "library": "var_list.py",
     "varRefreshCmd": "print(var_dic_list())"
    },
    "r": {
     "delete_cmd_postfix": ") ",
     "delete_cmd_prefix": "rm(",
     "library": "var_list.r",
     "varRefreshCmd": "cat(var_dic_list()) "
    }
   },
   "types_to_exclude": [
    "module",
    "function",
    "builtin_function_or_method",
    "instance",
    "_Feature"
   ],
   "window_display": false
  }
 },
 "nbformat": 4,
 "nbformat_minor": 5
}
